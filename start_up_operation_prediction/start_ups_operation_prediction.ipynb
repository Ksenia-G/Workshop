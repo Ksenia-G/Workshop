{
 "cells": [
  {
   "cell_type": "markdown",
   "metadata": {},
   "source": [
    "# Project Description"
   ]
  },
  {
   "cell_type": "markdown",
   "metadata": {},
   "source": [
    "In this project, I will analyze tabular data pertaining to startups that operated from 1980 to 2018, with the objective of predicting which startups are likely to continue their operations and which may close. \n",
    "\n",
    "The primary goal is to develop a robust machine learning model capable of assessing startup viability. \n",
    "Additionally, we I conduct a comprehensive exploratory analysis to uncover valuable insights and formulate recommendations for future founders regarding the key factors that influence startup success."
   ]
  },
  {
   "cell_type": "markdown",
   "metadata": {},
   "source": [
    "# 00 Imports"
   ]
  },
  {
   "cell_type": "code",
   "execution_count": 165,
   "metadata": {},
   "outputs": [],
   "source": [
    "# Imports\n",
    "import pandas as pd\n",
    "import numpy as np\n",
    "\n",
    "import matplotlib.pyplot as plt\n",
    "import seaborn as sns\n",
    "\n",
    "from sklearn.model_selection import GridSearchCV, cross_val_score, train_test_split\n",
    "from sklearn.pipeline import Pipeline\n",
    "from sklearn.preprocessing import StandardScaler, OneHotEncoder, LabelEncoder\n",
    "from sklearn.compose import ColumnTransformer\n",
    "from sklearn.impute import SimpleImputer\n",
    "from catboost import CatBoostClassifier, Pool\n",
    "from sklearn.metrics import f1_score, make_scorer\n",
    "\n",
    "from phik import phik_matrix"
   ]
  },
  {
   "cell_type": "code",
   "execution_count": 166,
   "metadata": {},
   "outputs": [],
   "source": [
    "# Float Format\n",
    "pd.options.display.float_format = '{:,.2f}'.format"
   ]
  },
  {
   "cell_type": "markdown",
   "metadata": {},
   "source": [
    "# 0 First Glance"
   ]
  },
  {
   "cell_type": "code",
   "execution_count": 167,
   "metadata": {},
   "outputs": [],
   "source": [
    "dates = ['founded_at', 'first_funding_at', 'last_funding_at', 'closed_at']\n",
    "\n",
    "df = pd.read_csv(\n",
    "    '/Users/kseniagabrusevich/Desktop/01/ML/Kaggle/kaggle_startups_train_28062024.csv', \n",
    "    parse_dates=dates)\n",
    "\n",
    "dates_test = ['first_funding_at', 'last_funding_at']\n",
    "\n",
    "test = pd.read_csv(\n",
    "    '/Users/kseniagabrusevich/Desktop/01/ML/Kaggle/kaggle_startups_test_28062024.csv',\n",
    "    parse_dates=dates_test)"
   ]
  },
  {
   "cell_type": "code",
   "execution_count": 168,
   "metadata": {},
   "outputs": [
    {
     "data": {
      "text/html": [
       "<div>\n",
       "<style scoped>\n",
       "    .dataframe tbody tr th:only-of-type {\n",
       "        vertical-align: middle;\n",
       "    }\n",
       "\n",
       "    .dataframe tbody tr th {\n",
       "        vertical-align: top;\n",
       "    }\n",
       "\n",
       "    .dataframe thead th {\n",
       "        text-align: right;\n",
       "    }\n",
       "</style>\n",
       "<table border=\"1\" class=\"dataframe\">\n",
       "  <thead>\n",
       "    <tr style=\"text-align: right;\">\n",
       "      <th></th>\n",
       "      <th>name</th>\n",
       "      <th>category_list</th>\n",
       "      <th>funding_total_usd</th>\n",
       "      <th>status</th>\n",
       "      <th>country_code</th>\n",
       "      <th>state_code</th>\n",
       "      <th>region</th>\n",
       "      <th>city</th>\n",
       "      <th>funding_rounds</th>\n",
       "      <th>founded_at</th>\n",
       "      <th>first_funding_at</th>\n",
       "      <th>last_funding_at</th>\n",
       "      <th>closed_at</th>\n",
       "    </tr>\n",
       "  </thead>\n",
       "  <tbody>\n",
       "    <tr>\n",
       "      <th>0</th>\n",
       "      <td>Lunchgate</td>\n",
       "      <td>Online Reservations|Restaurants</td>\n",
       "      <td>828,626.00</td>\n",
       "      <td>operating</td>\n",
       "      <td>CHE</td>\n",
       "      <td>25</td>\n",
       "      <td>Zurich</td>\n",
       "      <td>Zürich</td>\n",
       "      <td>2</td>\n",
       "      <td>2009-10-17</td>\n",
       "      <td>2011-05-01</td>\n",
       "      <td>2014-12-01</td>\n",
       "      <td>NaT</td>\n",
       "    </tr>\n",
       "    <tr>\n",
       "      <th>1</th>\n",
       "      <td>EarLens</td>\n",
       "      <td>Manufacturing|Medical|Medical Devices</td>\n",
       "      <td>42,935,019.00</td>\n",
       "      <td>operating</td>\n",
       "      <td>USA</td>\n",
       "      <td>CA</td>\n",
       "      <td>SF Bay Area</td>\n",
       "      <td>Redwood City</td>\n",
       "      <td>4</td>\n",
       "      <td>2005-01-01</td>\n",
       "      <td>2010-05-04</td>\n",
       "      <td>2014-02-25</td>\n",
       "      <td>NaT</td>\n",
       "    </tr>\n",
       "    <tr>\n",
       "      <th>2</th>\n",
       "      <td>Reviva Pharmaceuticals</td>\n",
       "      <td>Biotechnology</td>\n",
       "      <td>35,456,381.00</td>\n",
       "      <td>operating</td>\n",
       "      <td>USA</td>\n",
       "      <td>CA</td>\n",
       "      <td>SF Bay Area</td>\n",
       "      <td>San Jose</td>\n",
       "      <td>3</td>\n",
       "      <td>2006-01-01</td>\n",
       "      <td>2012-08-20</td>\n",
       "      <td>2014-07-02</td>\n",
       "      <td>NaT</td>\n",
       "    </tr>\n",
       "    <tr>\n",
       "      <th>3</th>\n",
       "      <td>Sancilio and Company</td>\n",
       "      <td>Health Care</td>\n",
       "      <td>22,250,000.00</td>\n",
       "      <td>operating</td>\n",
       "      <td>NaN</td>\n",
       "      <td>NaN</td>\n",
       "      <td>NaN</td>\n",
       "      <td>NaN</td>\n",
       "      <td>3</td>\n",
       "      <td>2004-01-01</td>\n",
       "      <td>2011-09-01</td>\n",
       "      <td>2014-07-18</td>\n",
       "      <td>NaT</td>\n",
       "    </tr>\n",
       "    <tr>\n",
       "      <th>4</th>\n",
       "      <td>WireTough Cylinders</td>\n",
       "      <td>Manufacturing</td>\n",
       "      <td>NaN</td>\n",
       "      <td>operating</td>\n",
       "      <td>USA</td>\n",
       "      <td>VA</td>\n",
       "      <td>VA - Other</td>\n",
       "      <td>Bristol</td>\n",
       "      <td>1</td>\n",
       "      <td>2010-05-12</td>\n",
       "      <td>2012-02-01</td>\n",
       "      <td>2012-02-01</td>\n",
       "      <td>NaT</td>\n",
       "    </tr>\n",
       "  </tbody>\n",
       "</table>\n",
       "</div>"
      ],
      "text/plain": [
       "                     name                          category_list  \\\n",
       "0               Lunchgate        Online Reservations|Restaurants   \n",
       "1                 EarLens  Manufacturing|Medical|Medical Devices   \n",
       "2  Reviva Pharmaceuticals                          Biotechnology   \n",
       "3    Sancilio and Company                            Health Care   \n",
       "4     WireTough Cylinders                          Manufacturing   \n",
       "\n",
       "   funding_total_usd     status country_code state_code       region  \\\n",
       "0         828,626.00  operating          CHE         25       Zurich   \n",
       "1      42,935,019.00  operating          USA         CA  SF Bay Area   \n",
       "2      35,456,381.00  operating          USA         CA  SF Bay Area   \n",
       "3      22,250,000.00  operating          NaN        NaN          NaN   \n",
       "4                NaN  operating          USA         VA   VA - Other   \n",
       "\n",
       "           city  funding_rounds founded_at first_funding_at last_funding_at  \\\n",
       "0        Zürich               2 2009-10-17       2011-05-01      2014-12-01   \n",
       "1  Redwood City               4 2005-01-01       2010-05-04      2014-02-25   \n",
       "2      San Jose               3 2006-01-01       2012-08-20      2014-07-02   \n",
       "3           NaN               3 2004-01-01       2011-09-01      2014-07-18   \n",
       "4       Bristol               1 2010-05-12       2012-02-01      2012-02-01   \n",
       "\n",
       "  closed_at  \n",
       "0       NaT  \n",
       "1       NaT  \n",
       "2       NaT  \n",
       "3       NaT  \n",
       "4       NaT  "
      ]
     },
     "execution_count": 168,
     "metadata": {},
     "output_type": "execute_result"
    }
   ],
   "source": [
    "df.head()"
   ]
  },
  {
   "cell_type": "code",
   "execution_count": 169,
   "metadata": {},
   "outputs": [
    {
     "data": {
      "text/html": [
       "<div>\n",
       "<style scoped>\n",
       "    .dataframe tbody tr th:only-of-type {\n",
       "        vertical-align: middle;\n",
       "    }\n",
       "\n",
       "    .dataframe tbody tr th {\n",
       "        vertical-align: top;\n",
       "    }\n",
       "\n",
       "    .dataframe thead th {\n",
       "        text-align: right;\n",
       "    }\n",
       "</style>\n",
       "<table border=\"1\" class=\"dataframe\">\n",
       "  <thead>\n",
       "    <tr style=\"text-align: right;\">\n",
       "      <th></th>\n",
       "      <th>name</th>\n",
       "      <th>category_list</th>\n",
       "      <th>funding_total_usd</th>\n",
       "      <th>country_code</th>\n",
       "      <th>state_code</th>\n",
       "      <th>region</th>\n",
       "      <th>city</th>\n",
       "      <th>funding_rounds</th>\n",
       "      <th>first_funding_at</th>\n",
       "      <th>last_funding_at</th>\n",
       "      <th>lifetime</th>\n",
       "    </tr>\n",
       "  </thead>\n",
       "  <tbody>\n",
       "    <tr>\n",
       "      <th>0</th>\n",
       "      <td>Crystalsol</td>\n",
       "      <td>Clean Technology</td>\n",
       "      <td>2,819,200.00</td>\n",
       "      <td>NIC</td>\n",
       "      <td>17</td>\n",
       "      <td>NaN</td>\n",
       "      <td>NaN</td>\n",
       "      <td>1</td>\n",
       "      <td>2009-07-01</td>\n",
       "      <td>2009-07-01</td>\n",
       "      <td>3501</td>\n",
       "    </tr>\n",
       "    <tr>\n",
       "      <th>1</th>\n",
       "      <td>JBI Fish &amp; Wings</td>\n",
       "      <td>Hospitality</td>\n",
       "      <td>NaN</td>\n",
       "      <td>USA</td>\n",
       "      <td>TN</td>\n",
       "      <td>TN - Other</td>\n",
       "      <td>Humboldt</td>\n",
       "      <td>1</td>\n",
       "      <td>2010-07-28</td>\n",
       "      <td>2010-07-28</td>\n",
       "      <td>2717</td>\n",
       "    </tr>\n",
       "    <tr>\n",
       "      <th>2</th>\n",
       "      <td>COINPLUS</td>\n",
       "      <td>Finance</td>\n",
       "      <td>428,257.00</td>\n",
       "      <td>LUX</td>\n",
       "      <td>3</td>\n",
       "      <td>Esch-sur-alzette</td>\n",
       "      <td>Esch-sur-alzette</td>\n",
       "      <td>2</td>\n",
       "      <td>2014-05-15</td>\n",
       "      <td>2014-09-18</td>\n",
       "      <td>1295</td>\n",
       "    </tr>\n",
       "    <tr>\n",
       "      <th>3</th>\n",
       "      <td>Imagine Communications</td>\n",
       "      <td>Software|Video|Video Streaming</td>\n",
       "      <td>34,700,000.00</td>\n",
       "      <td>USA</td>\n",
       "      <td>CA</td>\n",
       "      <td>San Diego</td>\n",
       "      <td>San Diego</td>\n",
       "      <td>4</td>\n",
       "      <td>2005-01-01</td>\n",
       "      <td>2010-04-20</td>\n",
       "      <td>4748</td>\n",
       "    </tr>\n",
       "    <tr>\n",
       "      <th>4</th>\n",
       "      <td>DNA13</td>\n",
       "      <td>Software</td>\n",
       "      <td>4,530,000.00</td>\n",
       "      <td>CAN</td>\n",
       "      <td>ON</td>\n",
       "      <td>Ottawa</td>\n",
       "      <td>Ottawa</td>\n",
       "      <td>1</td>\n",
       "      <td>2007-05-08</td>\n",
       "      <td>2007-05-08</td>\n",
       "      <td>6209</td>\n",
       "    </tr>\n",
       "  </tbody>\n",
       "</table>\n",
       "</div>"
      ],
      "text/plain": [
       "                     name                   category_list  funding_total_usd  \\\n",
       "0              Crystalsol                Clean Technology       2,819,200.00   \n",
       "1        JBI Fish & Wings                     Hospitality                NaN   \n",
       "2                COINPLUS                         Finance         428,257.00   \n",
       "3  Imagine Communications  Software|Video|Video Streaming      34,700,000.00   \n",
       "4                   DNA13                        Software       4,530,000.00   \n",
       "\n",
       "  country_code state_code            region              city  funding_rounds  \\\n",
       "0          NIC         17               NaN               NaN               1   \n",
       "1          USA         TN        TN - Other          Humboldt               1   \n",
       "2          LUX          3  Esch-sur-alzette  Esch-sur-alzette               2   \n",
       "3          USA         CA         San Diego         San Diego               4   \n",
       "4          CAN         ON            Ottawa            Ottawa               1   \n",
       "\n",
       "  first_funding_at last_funding_at  lifetime  \n",
       "0       2009-07-01      2009-07-01      3501  \n",
       "1       2010-07-28      2010-07-28      2717  \n",
       "2       2014-05-15      2014-09-18      1295  \n",
       "3       2005-01-01      2010-04-20      4748  \n",
       "4       2007-05-08      2007-05-08      6209  "
      ]
     },
     "execution_count": 169,
     "metadata": {},
     "output_type": "execute_result"
    }
   ],
   "source": [
    "test.head()"
   ]
  },
  {
   "cell_type": "markdown",
   "metadata": {},
   "source": [
    "# 1. EDA"
   ]
  },
  {
   "cell_type": "markdown",
   "metadata": {},
   "source": [
    "## 1.1 Overview"
   ]
  },
  {
   "cell_type": "code",
   "execution_count": 170,
   "metadata": {},
   "outputs": [
    {
     "name": "stdout",
     "output_type": "stream",
     "text": [
      "<class 'pandas.core.frame.DataFrame'>\n",
      "RangeIndex: 52516 entries, 0 to 52515\n",
      "Data columns (total 13 columns):\n",
      " #   Column             Non-Null Count  Dtype         \n",
      "---  ------             --------------  -----         \n",
      " 0   name               52515 non-null  object        \n",
      " 1   category_list      50051 non-null  object        \n",
      " 2   funding_total_usd  42447 non-null  float64       \n",
      " 3   status             52516 non-null  object        \n",
      " 4   country_code       47014 non-null  object        \n",
      " 5   state_code         45753 non-null  object        \n",
      " 6   region             46157 non-null  object        \n",
      " 7   city               46157 non-null  object        \n",
      " 8   funding_rounds     52516 non-null  int64         \n",
      " 9   founded_at         52516 non-null  datetime64[ns]\n",
      " 10  first_funding_at   52516 non-null  datetime64[ns]\n",
      " 11  last_funding_at    52516 non-null  datetime64[ns]\n",
      " 12  closed_at          4917 non-null   datetime64[ns]\n",
      "dtypes: datetime64[ns](4), float64(1), int64(1), object(7)\n",
      "memory usage: 5.2+ MB\n"
     ]
    }
   ],
   "source": [
    "df.info()"
   ]
  },
  {
   "cell_type": "code",
   "execution_count": 171,
   "metadata": {},
   "outputs": [
    {
     "data": {
      "text/plain": [
       "name                0.00\n",
       "category_list       0.05\n",
       "funding_total_usd   0.19\n",
       "status              0.00\n",
       "country_code        0.10\n",
       "state_code          0.13\n",
       "region              0.12\n",
       "city                0.12\n",
       "funding_rounds      0.00\n",
       "founded_at          0.00\n",
       "first_funding_at    0.00\n",
       "last_funding_at     0.00\n",
       "closed_at           0.91\n",
       "dtype: float64"
      ]
     },
     "execution_count": 171,
     "metadata": {},
     "output_type": "execute_result"
    }
   ],
   "source": [
    "# Missing values in train\n",
    "df.isna().mean()"
   ]
  },
  {
   "cell_type": "code",
   "execution_count": 172,
   "metadata": {},
   "outputs": [
    {
     "data": {
      "text/plain": [
       "name                0.00\n",
       "category_list       0.05\n",
       "funding_total_usd   0.20\n",
       "country_code        0.11\n",
       "state_code          0.13\n",
       "region              0.12\n",
       "city                0.12\n",
       "funding_rounds      0.00\n",
       "first_funding_at    0.00\n",
       "last_funding_at     0.00\n",
       "lifetime            0.00\n",
       "dtype: float64"
      ]
     },
     "execution_count": 172,
     "metadata": {},
     "output_type": "execute_result"
    }
   ],
   "source": [
    "# Missing values in test\n",
    "test.isna().mean()"
   ]
  },
  {
   "cell_type": "markdown",
   "metadata": {},
   "source": [
    "- There are 5 features which have missing values. This will be dealt with further on."
   ]
  },
  {
   "cell_type": "markdown",
   "metadata": {},
   "source": [
    "## 1.2 Target Overview"
   ]
  },
  {
   "cell_type": "code",
   "execution_count": 173,
   "metadata": {},
   "outputs": [
    {
     "data": {
      "text/plain": [
       "status\n",
       "operating   0.91\n",
       "closed      0.09\n",
       "Name: proportion, dtype: float64"
      ]
     },
     "execution_count": 173,
     "metadata": {},
     "output_type": "execute_result"
    }
   ],
   "source": [
    "df.status.value_counts(normalize=True)"
   ]
  },
  {
   "cell_type": "markdown",
   "metadata": {},
   "source": [
    "- This indicates a class imbalance which may impact model performance, particularly while using F1 score as the metric, as the model may be biased towards predicting the majority class (\"operating\"). "
   ]
  },
  {
   "cell_type": "code",
   "execution_count": 174,
   "metadata": {},
   "outputs": [
    {
     "data": {
      "image/png": "[encoded data removed]",
      "text/plain": [
       "<Figure size 600x400 with 1 Axes>"
      ]
     },
     "metadata": {},
     "output_type": "display_data"
    }
   ],
   "source": [
    "# Visualization of the class imbalance\n",
    "\n",
    "status_counts = df['status'].value_counts(normalize=True)\n",
    "plt.figure(figsize=(6, 4))\n",
    "status_counts.plot(kind='bar', color=['skyblue', 'salmon'])\n",
    "plt.title('Proportion of Status Categories')\n",
    "plt.xlabel('Status')\n",
    "plt.ylabel('Proportion')\n",
    "plt.xticks(rotation=0)\n",
    "plt.show()"
   ]
  },
  {
   "cell_type": "markdown",
   "metadata": {},
   "source": [
    "- For this case, since the status column is imbalanced setting auto_class_weights=\"SqrtBalanced\" would help CatBoost assign more weight to the minority class."
   ]
  },
  {
   "cell_type": "markdown",
   "metadata": {},
   "source": [
    "## 1.3 Category_list"
   ]
  },
  {
   "cell_type": "code",
   "execution_count": 175,
   "metadata": {},
   "outputs": [
    {
     "data": {
      "text/plain": [
       "0.04693807601492878"
      ]
     },
     "execution_count": 175,
     "metadata": {},
     "output_type": "execute_result"
    }
   ],
   "source": [
    "# Missing values\n",
    "df['category_list'].isna().mean()"
   ]
  },
  {
   "cell_type": "code",
   "execution_count": 176,
   "metadata": {},
   "outputs": [],
   "source": [
    "# Fill the missing values with 'Unknown'\n",
    "df['category_list'] = df['category_list'].fillna('Unknown')\n",
    "test['category_list'] = test['category_list'].fillna('Unknown')"
   ]
  },
  {
   "cell_type": "code",
   "execution_count": 177,
   "metadata": {},
   "outputs": [
    {
     "data": {
      "text/plain": [
       "22106"
      ]
     },
     "execution_count": 177,
     "metadata": {},
     "output_type": "execute_result"
    }
   ],
   "source": [
    "# Unique values\n",
    "df['category_list'].nunique()"
   ]
  },
  {
   "cell_type": "code",
   "execution_count": 178,
   "metadata": {},
   "outputs": [],
   "source": [
    "cat_names = df['category_list'].str.get_dummies(sep='|')"
   ]
  },
  {
   "cell_type": "code",
   "execution_count": 179,
   "metadata": {},
   "outputs": [
    {
     "data": {
      "text/plain": [
       "(52516, 855)"
      ]
     },
     "execution_count": 179,
     "metadata": {},
     "output_type": "execute_result"
    }
   ],
   "source": [
    "cat_names.shape"
   ]
  },
  {
   "cell_type": "code",
   "execution_count": 180,
   "metadata": {},
   "outputs": [
    {
     "data": {
      "text/plain": [
       "Software               7017\n",
       "Mobile                 4399\n",
       "Biotechnology          3668\n",
       "E-Commerce             3308\n",
       "Unknown                2465\n",
       "Curated Web            2407\n",
       "Social Media           2284\n",
       "Enterprise Software    2193\n",
       "Advertising            1985\n",
       "Health Care            1885\n",
       "dtype: int64"
      ]
     },
     "execution_count": 180,
     "metadata": {},
     "output_type": "execute_result"
    }
   ],
   "source": [
    "# Most popular categories (Top-10)\n",
    "cat_names.sum().sort_values(ascending=False).head(10)"
   ]
  },
  {
   "cell_type": "code",
   "execution_count": 181,
   "metadata": {},
   "outputs": [],
   "source": [
    "def replace_rare_categories(df, column_name, threshold=0.01):\n",
    "    \"\"\"\n",
    "    Replaces rare categories in the specified column with 'Other'.\n",
    "\n",
    "    Parameters:\n",
    "    - df: DataFrame containing the data.\n",
    "    - column_name: The name of the column containing categories.\n",
    "    - threshold: Proportion below which categories are considered rare (default: 0.01 for 1%).\n",
    "\n",
    "    Returns:\n",
    "    - DataFrame with a new column 'category_list_new' having rare categories replaced.\n",
    "    \"\"\"\n",
    "\n",
    "    category_counts = df[column_name].str.split('|').explode().value_counts(normalize=True)\n",
    "\n",
    "    rare_categories = category_counts[category_counts < threshold].index\n",
    "\n",
    "    df['category_list_new'] = df[column_name].apply(\n",
    "        lambda x: '|'.join(['Other' if cat in rare_categories else cat for cat in x.split('|')])\n",
    "    )\n",
    "    \n",
    "    new_category_counts = df['category_list_new'].str.split('|').explode().value_counts(normalize=True)\n",
    "    print(new_category_counts)\n",
    "\n",
    "    return df"
   ]
  },
  {
   "cell_type": "code",
   "execution_count": 182,
   "metadata": {},
   "outputs": [
    {
     "name": "stdout",
     "output_type": "stream",
     "text": [
      "category_list_new\n",
      "Other                 0.63\n",
      "Software              0.06\n",
      "Mobile                0.04\n",
      "Biotechnology         0.03\n",
      "E-Commerce            0.03\n",
      "Unknown               0.02\n",
      "Curated Web           0.02\n",
      "Social Media          0.02\n",
      "Enterprise Software   0.02\n",
      "Advertising           0.02\n",
      "Health Care           0.02\n",
      "Games                 0.01\n",
      "Internet              0.01\n",
      "SaaS                  0.01\n",
      "Health and Wellness   0.01\n",
      "Education             0.01\n",
      "Analytics             0.01\n",
      "Apps                  0.01\n",
      "Finance               0.01\n",
      "Technology            0.01\n",
      "Name: proportion, dtype: float64\n",
      "category_list_new\n",
      "Other                 0.62\n",
      "Software              0.06\n",
      "Mobile                0.04\n",
      "Biotechnology         0.03\n",
      "E-Commerce            0.03\n",
      "Curated Web           0.02\n",
      "Social Media          0.02\n",
      "Unknown               0.02\n",
      "Enterprise Software   0.02\n",
      "Health Care           0.02\n",
      "Advertising           0.02\n",
      "Games                 0.02\n",
      "Education             0.01\n",
      "Health and Wellness   0.01\n",
      "Internet              0.01\n",
      "SaaS                  0.01\n",
      "Apps                  0.01\n",
      "Finance               0.01\n",
      "Technology            0.01\n",
      "Analytics             0.01\n",
      "Clean Technology      0.01\n",
      "Name: proportion, dtype: float64\n"
     ]
    }
   ],
   "source": [
    "# Replace rare categories in the training dataset\n",
    "df_train = replace_rare_categories(df, 'category_list', threshold=0.01)\n",
    "\n",
    "# Replace rare categories in the test dataset\n",
    "df_test = replace_rare_categories(test, 'category_list', threshold=0.01)"
   ]
  },
  {
   "cell_type": "markdown",
   "metadata": {},
   "source": [
    "## 1.3 Funding Total"
   ]
  },
  {
   "cell_type": "code",
   "execution_count": 183,
   "metadata": {},
   "outputs": [
    {
     "data": {
      "text/plain": [
       "0.19173204356767462"
      ]
     },
     "execution_count": 183,
     "metadata": {},
     "output_type": "execute_result"
    }
   ],
   "source": [
    "# Missing values\n",
    "df.funding_total_usd.isna().mean()"
   ]
  },
  {
   "cell_type": "code",
   "execution_count": 184,
   "metadata": {},
   "outputs": [
    {
     "data": {
      "text/plain": [
       "1.1140133081736021"
      ]
     },
     "execution_count": 184,
     "metadata": {},
     "output_type": "execute_result"
    }
   ],
   "source": [
    "df[df['funding_total_usd'].isna()]['funding_rounds'].mean()"
   ]
  },
  {
   "cell_type": "code",
   "execution_count": 185,
   "metadata": {},
   "outputs": [],
   "source": [
    "# Fill missing values in the funding_total_usd column based on the median of each group defined by funding_rounds.\n",
    "\n",
    "df['funding_total_usd'] = df.groupby('funding_rounds')['funding_total_usd'].transform(lambda x: x.fillna(x.median()))\n",
    "test['funding_total_usd'] = test.groupby('funding_rounds')['funding_total_usd'].transform(lambda x: x.fillna(x.median()))"
   ]
  },
  {
   "cell_type": "code",
   "execution_count": 233,
   "metadata": {},
   "outputs": [
    {
     "data": {
      "image/png": "[encoded data removed]",
      "text/plain": [
       "<Figure size 1000x600 with 1 Axes>"
      ]
     },
     "metadata": {},
     "output_type": "display_data"
    }
   ],
   "source": [
    "closed_funding = df[df['status'] == 'closed']['funding_total_usd']\n",
    "operating_funding = df[df['status'] == 'operating']['funding_total_usd']\n",
    "\n",
    "data = [closed_funding, operating_funding]\n",
    "\n",
    "\n",
    "plt.figure(figsize=(10, 6))\n",
    "plt.boxplot(data, labels=['Closed', 'Operating'], patch_artist=True,\n",
    "            boxprops=dict(facecolor='lightcoral'), \n",
    "            medianprops=dict(color='red'))\n",
    "\n",
    "\n",
    "plt.title('Boxplot of Funding Total USD by Status')\n",
    "plt.ylabel('Funding Total USD')\n",
    "plt.show()"
   ]
  },
  {
   "cell_type": "code",
   "execution_count": 242,
   "metadata": {},
   "outputs": [
    {
     "data": {
      "text/html": [
       "<div>\n",
       "<style scoped>\n",
       "    .dataframe tbody tr th:only-of-type {\n",
       "        vertical-align: middle;\n",
       "    }\n",
       "\n",
       "    .dataframe tbody tr th {\n",
       "        vertical-align: top;\n",
       "    }\n",
       "\n",
       "    .dataframe thead th {\n",
       "        text-align: right;\n",
       "    }\n",
       "</style>\n",
       "<table border=\"1\" class=\"dataframe\">\n",
       "  <thead>\n",
       "    <tr style=\"text-align: right;\">\n",
       "      <th></th>\n",
       "      <th>count</th>\n",
       "      <th>mean</th>\n",
       "      <th>std</th>\n",
       "      <th>min</th>\n",
       "      <th>25%</th>\n",
       "      <th>50%</th>\n",
       "      <th>75%</th>\n",
       "      <th>max</th>\n",
       "    </tr>\n",
       "  </thead>\n",
       "  <tbody>\n",
       "    <tr>\n",
       "      <th>funding_total_usd</th>\n",
       "      <td>4,917.00</td>\n",
       "      <td>9,158,092.39</td>\n",
       "      <td>41,853,766.37</td>\n",
       "      <td>2.00</td>\n",
       "      <td>370,000.00</td>\n",
       "      <td>860,000.00</td>\n",
       "      <td>5,000,000.00</td>\n",
       "      <td>1,567,504,319.00</td>\n",
       "    </tr>\n",
       "  </tbody>\n",
       "</table>\n",
       "</div>"
      ],
      "text/plain": [
       "                     count         mean           std  min        25%  \\\n",
       "funding_total_usd 4,917.00 9,158,092.39 41,853,766.37 2.00 370,000.00   \n",
       "\n",
       "                         50%          75%              max  \n",
       "funding_total_usd 860,000.00 5,000,000.00 1,567,504,319.00  "
      ]
     },
     "execution_count": 242,
     "metadata": {},
     "output_type": "execute_result"
    }
   ],
   "source": [
    "df[df['status']=='closed'][['funding_total_usd']].describe().T"
   ]
  },
  {
   "cell_type": "code",
   "execution_count": 244,
   "metadata": {},
   "outputs": [
    {
     "data": {
      "text/html": [
       "<div>\n",
       "<style scoped>\n",
       "    .dataframe tbody tr th:only-of-type {\n",
       "        vertical-align: middle;\n",
       "    }\n",
       "\n",
       "    .dataframe tbody tr th {\n",
       "        vertical-align: top;\n",
       "    }\n",
       "\n",
       "    .dataframe thead th {\n",
       "        text-align: right;\n",
       "    }\n",
       "</style>\n",
       "<table border=\"1\" class=\"dataframe\">\n",
       "  <thead>\n",
       "    <tr style=\"text-align: right;\">\n",
       "      <th></th>\n",
       "      <th>count</th>\n",
       "      <th>mean</th>\n",
       "      <th>std</th>\n",
       "      <th>min</th>\n",
       "      <th>25%</th>\n",
       "      <th>50%</th>\n",
       "      <th>75%</th>\n",
       "      <th>max</th>\n",
       "    </tr>\n",
       "  </thead>\n",
       "  <tbody>\n",
       "    <tr>\n",
       "      <th>funding_total_usd</th>\n",
       "      <td>47,599.00</td>\n",
       "      <td>15,579,334.03</td>\n",
       "      <td>176,320,465.55</td>\n",
       "      <td>1.00</td>\n",
       "      <td>560,000.00</td>\n",
       "      <td>1,100,000.00</td>\n",
       "      <td>7,200,000.00</td>\n",
       "      <td>30,079,503,000.00</td>\n",
       "    </tr>\n",
       "  </tbody>\n",
       "</table>\n",
       "</div>"
      ],
      "text/plain": [
       "                      count          mean            std  min        25%  \\\n",
       "funding_total_usd 47,599.00 15,579,334.03 176,320,465.55 1.00 560,000.00   \n",
       "\n",
       "                           50%          75%               max  \n",
       "funding_total_usd 1,100,000.00 7,200,000.00 30,079,503,000.00  "
      ]
     },
     "execution_count": 244,
     "metadata": {},
     "output_type": "execute_result"
    }
   ],
   "source": [
    "df[df['status']=='operating'][['funding_total_usd']].describe().T"
   ]
  },
  {
   "cell_type": "markdown",
   "metadata": {},
   "source": [
    "## 1.4 Features describing location"
   ]
  },
  {
   "cell_type": "code",
   "execution_count": 186,
   "metadata": {},
   "outputs": [],
   "source": [
    "# Define a list of geographical columns (geo)\n",
    "geo = ['country_code', 'state_code', 'region', 'city']"
   ]
  },
  {
   "cell_type": "code",
   "execution_count": 187,
   "metadata": {},
   "outputs": [],
   "source": [
    "# Fill missing values\n",
    "df[geo] = df[geo].fillna('Missing')\n",
    "test[geo] = test[geo].fillna('Missing')"
   ]
  },
  {
   "cell_type": "code",
   "execution_count": 188,
   "metadata": {},
   "outputs": [
    {
     "name": "stdout",
     "output_type": "stream",
     "text": [
      "135\n",
      "301\n",
      "1037\n",
      "4478\n"
     ]
    }
   ],
   "source": [
    "# Unique values\n",
    "for col in df[geo]:\n",
    "    print(df[col].nunique())"
   ]
  },
  {
   "cell_type": "markdown",
   "metadata": {},
   "source": [
    "- Having too many unique values can slow down the learning process. Fortunately, CatBoost effectively manages categorical features with target-based encoding."
   ]
  },
  {
   "cell_type": "code",
   "execution_count": 189,
   "metadata": {},
   "outputs": [
    {
     "data": {
      "image/png": "[encoded data removed]",
      "text/plain": [
       "<Figure size 1000x800 with 2 Axes>"
      ]
     },
     "metadata": {},
     "output_type": "display_data"
    }
   ],
   "source": [
    "# Check for multicollinearity\n",
    "\n",
    "_df = df[['status']+ geo].sample(1000)\n",
    "matrix = _df.phik_matrix()\n",
    "\n",
    "plt.figure(figsize=(10, 8))\n",
    "sns.heatmap(matrix, annot=True, cmap='coolwarm', vmin=-1, vmax=1)\n",
    "plt.title('Phi_k Correlation Matrix')\n",
    "plt.show()"
   ]
  },
  {
   "cell_type": "markdown",
   "metadata": {},
   "source": [
    "- Since all geographic features are highly correlated with each other, only one should be used in the model. \n",
    "- However, all geographic features show similar correlation with the target which is why it's hard to say which one will be more predictive. \n",
    "- The feature will be selected during the modelling process."
   ]
  },
  {
   "cell_type": "markdown",
   "metadata": {},
   "source": [
    "## 1.5 Funding Rounds"
   ]
  },
  {
   "cell_type": "code",
   "execution_count": 221,
   "metadata": {},
   "outputs": [
    {
     "data": {
      "text/plain": [
       "funding_rounds\n",
       "1    0.64\n",
       "2    0.19\n",
       "3    0.08\n",
       "4    0.04\n",
       "5    0.02\n",
       "6    0.01\n",
       "7    0.01\n",
       "8    0.00\n",
       "9    0.00\n",
       "10   0.00\n",
       "11   0.00\n",
       "12   0.00\n",
       "13   0.00\n",
       "16   0.00\n",
       "15   0.00\n",
       "14   0.00\n",
       "17   0.00\n",
       "18   0.00\n",
       "19   0.00\n",
       "Name: proportion, dtype: float64"
      ]
     },
     "execution_count": 221,
     "metadata": {},
     "output_type": "execute_result"
    }
   ],
   "source": [
    "df['funding_rounds'].value_counts(normalize=True)"
   ]
  },
  {
   "cell_type": "code",
   "execution_count": 246,
   "metadata": {},
   "outputs": [
    {
     "data": {
      "text/html": [
       "<div>\n",
       "<style scoped>\n",
       "    .dataframe tbody tr th:only-of-type {\n",
       "        vertical-align: middle;\n",
       "    }\n",
       "\n",
       "    .dataframe tbody tr th {\n",
       "        vertical-align: top;\n",
       "    }\n",
       "\n",
       "    .dataframe thead th {\n",
       "        text-align: right;\n",
       "    }\n",
       "</style>\n",
       "<table border=\"1\" class=\"dataframe\">\n",
       "  <thead>\n",
       "    <tr style=\"text-align: right;\">\n",
       "      <th></th>\n",
       "      <th>min</th>\n",
       "      <th>max</th>\n",
       "      <th>mean</th>\n",
       "    </tr>\n",
       "    <tr>\n",
       "      <th>status</th>\n",
       "      <th></th>\n",
       "      <th></th>\n",
       "      <th></th>\n",
       "    </tr>\n",
       "  </thead>\n",
       "  <tbody>\n",
       "    <tr>\n",
       "      <th>closed</th>\n",
       "      <td>1</td>\n",
       "      <td>11</td>\n",
       "      <td>1.40</td>\n",
       "    </tr>\n",
       "    <tr>\n",
       "      <th>operating</th>\n",
       "      <td>1</td>\n",
       "      <td>19</td>\n",
       "      <td>1.78</td>\n",
       "    </tr>\n",
       "  </tbody>\n",
       "</table>\n",
       "</div>"
      ],
      "text/plain": [
       "           min  max  mean\n",
       "status                   \n",
       "closed       1   11  1.40\n",
       "operating    1   19  1.78"
      ]
     },
     "execution_count": 246,
     "metadata": {},
     "output_type": "execute_result"
    }
   ],
   "source": [
    "df.groupby('status')['funding_rounds'].agg(['min', 'max', 'mean'])"
   ]
  },
  {
   "cell_type": "markdown",
   "metadata": {},
   "source": [
    "- Not much of a difference. Perhaps this is an unimportant feature."
   ]
  },
  {
   "cell_type": "markdown",
   "metadata": {},
   "source": [
    "## 1.6 Dates"
   ]
  },
  {
   "cell_type": "code",
   "execution_count": 190,
   "metadata": {},
   "outputs": [
    {
     "data": {
      "text/html": [
       "<div>\n",
       "<style scoped>\n",
       "    .dataframe tbody tr th:only-of-type {\n",
       "        vertical-align: middle;\n",
       "    }\n",
       "\n",
       "    .dataframe tbody tr th {\n",
       "        vertical-align: top;\n",
       "    }\n",
       "\n",
       "    .dataframe thead th {\n",
       "        text-align: right;\n",
       "    }\n",
       "</style>\n",
       "<table border=\"1\" class=\"dataframe\">\n",
       "  <thead>\n",
       "    <tr style=\"text-align: right;\">\n",
       "      <th></th>\n",
       "      <th>founded_at</th>\n",
       "      <th>first_funding_at</th>\n",
       "      <th>last_funding_at</th>\n",
       "      <th>closed_at</th>\n",
       "    </tr>\n",
       "  </thead>\n",
       "  <tbody>\n",
       "    <tr>\n",
       "      <th>count</th>\n",
       "      <td>52516</td>\n",
       "      <td>52516</td>\n",
       "      <td>52516</td>\n",
       "      <td>4917</td>\n",
       "    </tr>\n",
       "    <tr>\n",
       "      <th>mean</th>\n",
       "      <td>2008-11-04 09:44:16.196206848</td>\n",
       "      <td>2011-07-17 04:45:33.247010304</td>\n",
       "      <td>2012-06-27 16:29:42.313961472</td>\n",
       "      <td>2012-01-16 16:14:21.012812544</td>\n",
       "    </tr>\n",
       "    <tr>\n",
       "      <th>min</th>\n",
       "      <td>1970-02-05 00:00:00</td>\n",
       "      <td>1977-05-15 00:00:00</td>\n",
       "      <td>1977-05-15 00:00:00</td>\n",
       "      <td>1983-10-06 00:00:00</td>\n",
       "    </tr>\n",
       "    <tr>\n",
       "      <th>25%</th>\n",
       "      <td>2006-10-01 00:00:00</td>\n",
       "      <td>2009-10-12 00:00:00</td>\n",
       "      <td>2011-02-01 00:00:00</td>\n",
       "      <td>2009-09-18 00:00:00</td>\n",
       "    </tr>\n",
       "    <tr>\n",
       "      <th>50%</th>\n",
       "      <td>2010-10-01 00:00:00</td>\n",
       "      <td>2012-07-23 00:00:00</td>\n",
       "      <td>2013-08-30 00:00:00</td>\n",
       "      <td>2012-09-15 00:00:00</td>\n",
       "    </tr>\n",
       "    <tr>\n",
       "      <th>75%</th>\n",
       "      <td>2013-01-01 00:00:00</td>\n",
       "      <td>2014-04-01 00:00:00</td>\n",
       "      <td>2014-11-17 00:00:00</td>\n",
       "      <td>2015-04-23 00:00:00</td>\n",
       "    </tr>\n",
       "    <tr>\n",
       "      <th>max</th>\n",
       "      <td>2016-04-02 00:00:00</td>\n",
       "      <td>2015-12-05 00:00:00</td>\n",
       "      <td>2015-12-07 00:00:00</td>\n",
       "      <td>2017-10-21 00:00:00</td>\n",
       "    </tr>\n",
       "  </tbody>\n",
       "</table>\n",
       "</div>"
      ],
      "text/plain": [
       "                          founded_at               first_funding_at  \\\n",
       "count                          52516                          52516   \n",
       "mean   2008-11-04 09:44:16.196206848  2011-07-17 04:45:33.247010304   \n",
       "min              1970-02-05 00:00:00            1977-05-15 00:00:00   \n",
       "25%              2006-10-01 00:00:00            2009-10-12 00:00:00   \n",
       "50%              2010-10-01 00:00:00            2012-07-23 00:00:00   \n",
       "75%              2013-01-01 00:00:00            2014-04-01 00:00:00   \n",
       "max              2016-04-02 00:00:00            2015-12-05 00:00:00   \n",
       "\n",
       "                     last_funding_at                      closed_at  \n",
       "count                          52516                           4917  \n",
       "mean   2012-06-27 16:29:42.313961472  2012-01-16 16:14:21.012812544  \n",
       "min              1977-05-15 00:00:00            1983-10-06 00:00:00  \n",
       "25%              2011-02-01 00:00:00            2009-09-18 00:00:00  \n",
       "50%              2013-08-30 00:00:00            2012-09-15 00:00:00  \n",
       "75%              2014-11-17 00:00:00            2015-04-23 00:00:00  \n",
       "max              2015-12-07 00:00:00            2017-10-21 00:00:00  "
      ]
     },
     "execution_count": 190,
     "metadata": {},
     "output_type": "execute_result"
    }
   ],
   "source": [
    "df[dates].describe()"
   ]
  },
  {
   "cell_type": "code",
   "execution_count": 191,
   "metadata": {},
   "outputs": [
    {
     "name": "stdout",
     "output_type": "stream",
     "text": [
      "Data is consistent: all companies marked as \"operating\" indeed have no closed_at date.\n"
     ]
    }
   ],
   "source": [
    "# Check if the number of NaN values in the closed_at column is equal to the number of rows where the status column is 'operating'.\n",
    "if df['closed_at'].isna().sum() == (df['status']=='operating').sum():\n",
    "    print('Data is consistent: all companies marked as \"operating\" indeed have no closed_at date.')\n",
    "else:\n",
    "    print('Data inconsistency found: there are discrepancies between the status and closed_at date.')"
   ]
  },
  {
   "cell_type": "code",
   "execution_count": 192,
   "metadata": {},
   "outputs": [],
   "source": [
    "# Replace NaT in 'closed_at' with '2018-01-01'\n",
    "df['closed_at'] = df['closed_at'].fillna(pd.to_datetime('2018-01-01'))"
   ]
  },
  {
   "cell_type": "markdown",
   "metadata": {},
   "source": [
    "# 2 Feature Engineering"
   ]
  },
  {
   "cell_type": "code",
   "execution_count": 193,
   "metadata": {},
   "outputs": [],
   "source": [
    "# Calculate 'lifetime' as the difference between 'closed_at' and 'founded_at'\n",
    "df['lifetime'] = (df['closed_at'] - df['founded_at']).dt.days"
   ]
  },
  {
   "cell_type": "code",
   "execution_count": 194,
   "metadata": {},
   "outputs": [
    {
     "data": {
      "image/png": "[encoded data removed]",
      "text/plain": [
       "<Figure size 1000x600 with 1 Axes>"
      ]
     },
     "metadata": {},
     "output_type": "display_data"
    }
   ],
   "source": [
    "plt.figure(figsize=(10, 6))\n",
    "\n",
    "# Box plot of lifetime for each status\n",
    "sns.boxplot(x='status', y='lifetime', data=df)\n",
    "\n",
    "plt.title(\"Box Plot of Lifetime by Status\")\n",
    "plt.xlabel(\"Status\")\n",
    "plt.ylabel(\"Lifetime (days)\")\n",
    "\n",
    "plt.show()"
   ]
  },
  {
   "cell_type": "code",
   "execution_count": 195,
   "metadata": {},
   "outputs": [],
   "source": [
    "# Calculate 'funding_duration' as the difference between 'last_funding_at' and 'first_funding_at'\n",
    "df['funding_duration'] = (df['last_funding_at'] - df['first_funding_at']).dt.days\n",
    "test['funding_duration'] = (test['last_funding_at'] - test['first_funding_at']).dt.days"
   ]
  },
  {
   "cell_type": "code",
   "execution_count": 196,
   "metadata": {},
   "outputs": [
    {
     "data": {
      "image/png": "[encoded data removed]",
      "text/plain": [
       "<Figure size 1000x600 with 1 Axes>"
      ]
     },
     "metadata": {},
     "output_type": "display_data"
    }
   ],
   "source": [
    "plt.figure(figsize=(10, 6))\n",
    "\n",
    "# Box plot of lifetime for each status\n",
    "sns.boxplot(x='status', y='funding_duration', data=df)\n",
    "\n",
    "plt.title(\"Box Plot of Funding Duration by Status\")\n",
    "plt.xlabel(\"Status\")\n",
    "plt.ylabel(\"Funding Duration (days)\")\n",
    "\n",
    "plt.show()"
   ]
  },
  {
   "cell_type": "code",
   "execution_count": 197,
   "metadata": {},
   "outputs": [],
   "source": [
    "def extract_day_month_year(df, column_name):\n",
    "    \"\"\"\n",
    "    Extracts the day, month, and year from a datetime column in a DataFrame.\n",
    "    \n",
    "    Parameters:\n",
    "    df (pd.DataFrame): The DataFrame containing the datetime column.\n",
    "    column_name (str): The name of the datetime column from which to extract the day, month, and year.\n",
    "    \n",
    "    Returns:\n",
    "    None: The function modifies the DataFrame in place by adding three new columns.\n",
    "    \"\"\"\n",
    "    \n",
    "    df[column_name + '_day'] = df[column_name].dt.day\n",
    "    df[column_name + '_month'] = df[column_name].dt.month\n",
    "    df[column_name + '_year'] = df[column_name].dt.year"
   ]
  },
  {
   "cell_type": "code",
   "execution_count": 198,
   "metadata": {},
   "outputs": [],
   "source": [
    "# Extract day, month, year from dates columns in train\n",
    "for col in df[dates_test]:\n",
    "    extract_day_month_year(df, col)"
   ]
  },
  {
   "cell_type": "code",
   "execution_count": 199,
   "metadata": {},
   "outputs": [],
   "source": [
    "# Extract day, month, year from dates columns in test\n",
    "for col in test[dates_test]:\n",
    "    extract_day_month_year(test, col)"
   ]
  },
  {
   "cell_type": "code",
   "execution_count": 200,
   "metadata": {},
   "outputs": [
    {
     "data": {
      "text/html": [
       "<div>\n",
       "<style scoped>\n",
       "    .dataframe tbody tr th:only-of-type {\n",
       "        vertical-align: middle;\n",
       "    }\n",
       "\n",
       "    .dataframe tbody tr th {\n",
       "        vertical-align: top;\n",
       "    }\n",
       "\n",
       "    .dataframe thead th {\n",
       "        text-align: right;\n",
       "    }\n",
       "</style>\n",
       "<table border=\"1\" class=\"dataframe\">\n",
       "  <thead>\n",
       "    <tr style=\"text-align: right;\">\n",
       "      <th></th>\n",
       "      <th>name</th>\n",
       "      <th>category_list</th>\n",
       "      <th>funding_total_usd</th>\n",
       "      <th>status</th>\n",
       "      <th>country_code</th>\n",
       "      <th>state_code</th>\n",
       "      <th>region</th>\n",
       "      <th>city</th>\n",
       "      <th>funding_rounds</th>\n",
       "      <th>founded_at</th>\n",
       "      <th>...</th>\n",
       "      <th>closed_at</th>\n",
       "      <th>category_list_new</th>\n",
       "      <th>lifetime</th>\n",
       "      <th>funding_duration</th>\n",
       "      <th>first_funding_at_day</th>\n",
       "      <th>first_funding_at_month</th>\n",
       "      <th>first_funding_at_year</th>\n",
       "      <th>last_funding_at_day</th>\n",
       "      <th>last_funding_at_month</th>\n",
       "      <th>last_funding_at_year</th>\n",
       "    </tr>\n",
       "  </thead>\n",
       "  <tbody>\n",
       "    <tr>\n",
       "      <th>0</th>\n",
       "      <td>Lunchgate</td>\n",
       "      <td>Online Reservations|Restaurants</td>\n",
       "      <td>828,626.00</td>\n",
       "      <td>operating</td>\n",
       "      <td>CHE</td>\n",
       "      <td>25</td>\n",
       "      <td>Zurich</td>\n",
       "      <td>Zürich</td>\n",
       "      <td>2</td>\n",
       "      <td>2009-10-17</td>\n",
       "      <td>...</td>\n",
       "      <td>2018-01-01</td>\n",
       "      <td>Other|Other</td>\n",
       "      <td>2998</td>\n",
       "      <td>1310</td>\n",
       "      <td>1</td>\n",
       "      <td>5</td>\n",
       "      <td>2011</td>\n",
       "      <td>1</td>\n",
       "      <td>12</td>\n",
       "      <td>2014</td>\n",
       "    </tr>\n",
       "    <tr>\n",
       "      <th>1</th>\n",
       "      <td>EarLens</td>\n",
       "      <td>Manufacturing|Medical|Medical Devices</td>\n",
       "      <td>42,935,019.00</td>\n",
       "      <td>operating</td>\n",
       "      <td>USA</td>\n",
       "      <td>CA</td>\n",
       "      <td>SF Bay Area</td>\n",
       "      <td>Redwood City</td>\n",
       "      <td>4</td>\n",
       "      <td>2005-01-01</td>\n",
       "      <td>...</td>\n",
       "      <td>2018-01-01</td>\n",
       "      <td>Other|Other|Other</td>\n",
       "      <td>4748</td>\n",
       "      <td>1393</td>\n",
       "      <td>4</td>\n",
       "      <td>5</td>\n",
       "      <td>2010</td>\n",
       "      <td>25</td>\n",
       "      <td>2</td>\n",
       "      <td>2014</td>\n",
       "    </tr>\n",
       "    <tr>\n",
       "      <th>2</th>\n",
       "      <td>Reviva Pharmaceuticals</td>\n",
       "      <td>Biotechnology</td>\n",
       "      <td>35,456,381.00</td>\n",
       "      <td>operating</td>\n",
       "      <td>USA</td>\n",
       "      <td>CA</td>\n",
       "      <td>SF Bay Area</td>\n",
       "      <td>San Jose</td>\n",
       "      <td>3</td>\n",
       "      <td>2006-01-01</td>\n",
       "      <td>...</td>\n",
       "      <td>2018-01-01</td>\n",
       "      <td>Biotechnology</td>\n",
       "      <td>4383</td>\n",
       "      <td>681</td>\n",
       "      <td>20</td>\n",
       "      <td>8</td>\n",
       "      <td>2012</td>\n",
       "      <td>2</td>\n",
       "      <td>7</td>\n",
       "      <td>2014</td>\n",
       "    </tr>\n",
       "    <tr>\n",
       "      <th>3</th>\n",
       "      <td>Sancilio and Company</td>\n",
       "      <td>Health Care</td>\n",
       "      <td>22,250,000.00</td>\n",
       "      <td>operating</td>\n",
       "      <td>Missing</td>\n",
       "      <td>Missing</td>\n",
       "      <td>Missing</td>\n",
       "      <td>Missing</td>\n",
       "      <td>3</td>\n",
       "      <td>2004-01-01</td>\n",
       "      <td>...</td>\n",
       "      <td>2018-01-01</td>\n",
       "      <td>Health Care</td>\n",
       "      <td>5114</td>\n",
       "      <td>1051</td>\n",
       "      <td>1</td>\n",
       "      <td>9</td>\n",
       "      <td>2011</td>\n",
       "      <td>18</td>\n",
       "      <td>7</td>\n",
       "      <td>2014</td>\n",
       "    </tr>\n",
       "    <tr>\n",
       "      <th>4</th>\n",
       "      <td>WireTough Cylinders</td>\n",
       "      <td>Manufacturing</td>\n",
       "      <td>860,000.00</td>\n",
       "      <td>operating</td>\n",
       "      <td>USA</td>\n",
       "      <td>VA</td>\n",
       "      <td>VA - Other</td>\n",
       "      <td>Bristol</td>\n",
       "      <td>1</td>\n",
       "      <td>2010-05-12</td>\n",
       "      <td>...</td>\n",
       "      <td>2018-01-01</td>\n",
       "      <td>Other</td>\n",
       "      <td>2791</td>\n",
       "      <td>0</td>\n",
       "      <td>1</td>\n",
       "      <td>2</td>\n",
       "      <td>2012</td>\n",
       "      <td>1</td>\n",
       "      <td>2</td>\n",
       "      <td>2012</td>\n",
       "    </tr>\n",
       "  </tbody>\n",
       "</table>\n",
       "<p>5 rows × 22 columns</p>\n",
       "</div>"
      ],
      "text/plain": [
       "                     name                          category_list  \\\n",
       "0               Lunchgate        Online Reservations|Restaurants   \n",
       "1                 EarLens  Manufacturing|Medical|Medical Devices   \n",
       "2  Reviva Pharmaceuticals                          Biotechnology   \n",
       "3    Sancilio and Company                            Health Care   \n",
       "4     WireTough Cylinders                          Manufacturing   \n",
       "\n",
       "   funding_total_usd     status country_code state_code       region  \\\n",
       "0         828,626.00  operating          CHE         25       Zurich   \n",
       "1      42,935,019.00  operating          USA         CA  SF Bay Area   \n",
       "2      35,456,381.00  operating          USA         CA  SF Bay Area   \n",
       "3      22,250,000.00  operating      Missing    Missing      Missing   \n",
       "4         860,000.00  operating          USA         VA   VA - Other   \n",
       "\n",
       "           city  funding_rounds founded_at  ...  closed_at  category_list_new  \\\n",
       "0        Zürich               2 2009-10-17  ... 2018-01-01        Other|Other   \n",
       "1  Redwood City               4 2005-01-01  ... 2018-01-01  Other|Other|Other   \n",
       "2      San Jose               3 2006-01-01  ... 2018-01-01      Biotechnology   \n",
       "3       Missing               3 2004-01-01  ... 2018-01-01        Health Care   \n",
       "4       Bristol               1 2010-05-12  ... 2018-01-01              Other   \n",
       "\n",
       "  lifetime funding_duration  first_funding_at_day  first_funding_at_month  \\\n",
       "0     2998             1310                     1                       5   \n",
       "1     4748             1393                     4                       5   \n",
       "2     4383              681                    20                       8   \n",
       "3     5114             1051                     1                       9   \n",
       "4     2791                0                     1                       2   \n",
       "\n",
       "   first_funding_at_year  last_funding_at_day  last_funding_at_month  \\\n",
       "0                   2011                    1                     12   \n",
       "1                   2010                   25                      2   \n",
       "2                   2012                    2                      7   \n",
       "3                   2011                   18                      7   \n",
       "4                   2012                    1                      2   \n",
       "\n",
       "   last_funding_at_year  \n",
       "0                  2014  \n",
       "1                  2014  \n",
       "2                  2014  \n",
       "3                  2014  \n",
       "4                  2012  \n",
       "\n",
       "[5 rows x 22 columns]"
      ]
     },
     "execution_count": 200,
     "metadata": {},
     "output_type": "execute_result"
    }
   ],
   "source": [
    "df.head()"
   ]
  },
  {
   "cell_type": "markdown",
   "metadata": {},
   "source": [
    "# 3 Correlation of numeric data"
   ]
  },
  {
   "cell_type": "code",
   "execution_count": 201,
   "metadata": {},
   "outputs": [
    {
     "data": {
      "text/plain": [
       "['funding_total_usd',\n",
       " 'funding_rounds',\n",
       " 'lifetime',\n",
       " 'funding_duration',\n",
       " 'first_funding_at_day',\n",
       " 'first_funding_at_month',\n",
       " 'first_funding_at_year',\n",
       " 'last_funding_at_day',\n",
       " 'last_funding_at_month',\n",
       " 'last_funding_at_year']"
      ]
     },
     "execution_count": 201,
     "metadata": {},
     "output_type": "execute_result"
    }
   ],
   "source": [
    "# Numeric values\n",
    "num_cols = [col for col in df.columns if df[col].dtype in ['int64', 'int32', 'float64']]\n",
    "num_cols"
   ]
  },
  {
   "cell_type": "code",
   "execution_count": 202,
   "metadata": {},
   "outputs": [
    {
     "data": {
      "image/png": "[encoded data removed]",
      "text/plain": [
       "<Figure size 1200x800 with 2 Axes>"
      ]
     },
     "metadata": {},
     "output_type": "display_data"
    }
   ],
   "source": [
    "# Calculate phik correlation\n",
    "_df = df[['status'] + num_cols]\n",
    "_matrix = _df.phik_matrix(interval_cols=num_cols).sort_values(by='status', ascending=False)\n",
    "\n",
    "# Plot Correlation Matrix\n",
    "plt.figure(figsize=(12, 8))\n",
    "sns.heatmap(_matrix, annot=True, cmap='coolwarm', fmt=\".2f\", linewidths=0.5)\n",
    "plt.title('Phik Correlation Matrix', fontsize=16)\n",
    "plt.show()"
   ]
  },
  {
   "cell_type": "markdown",
   "metadata": {},
   "source": [
    "- Lifetime shows a strong correlation with the target variable.\n",
    "- As the first and last funding years/days/months are highly correlated with each other, only one of them will be retained for further modeling.\n",
    "- While the other features demonstrate lower correlations, the significance of all features will be evaluated by CatBoost in the later stages of the modeling process."
   ]
  },
  {
   "cell_type": "markdown",
   "metadata": {},
   "source": [
    "# 4 Model"
   ]
  },
  {
   "cell_type": "code",
   "execution_count": 203,
   "metadata": {},
   "outputs": [
    {
     "data": {
      "text/plain": [
       "Index(['name', 'category_list', 'funding_total_usd', 'status', 'country_code',\n",
       "       'state_code', 'region', 'city', 'funding_rounds', 'founded_at',\n",
       "       'first_funding_at', 'last_funding_at', 'closed_at', 'category_list_new',\n",
       "       'lifetime', 'funding_duration', 'first_funding_at_day',\n",
       "       'first_funding_at_month', 'first_funding_at_year',\n",
       "       'last_funding_at_day', 'last_funding_at_month', 'last_funding_at_year'],\n",
       "      dtype='object')"
      ]
     },
     "execution_count": 203,
     "metadata": {},
     "output_type": "execute_result"
    }
   ],
   "source": [
    "df.columns"
   ]
  },
  {
   "cell_type": "code",
   "execution_count": 204,
   "metadata": {},
   "outputs": [
    {
     "name": "stdout",
     "output_type": "stream",
     "text": [
      "Learning rate set to 0.079778\n",
      "0:\tlearn: 0.5626213\ttest: 0.5615096\tbest: 0.5615096 (0)\ttotal: 97.1ms\tremaining: 1m 37s\n",
      "200:\tlearn: 0.0714401\ttest: 0.0684176\tbest: 0.0684176 (200)\ttotal: 5.4s\tremaining: 21.5s\n",
      "400:\tlearn: 0.0603828\ttest: 0.0659479\tbest: 0.0659238 (398)\ttotal: 10.5s\tremaining: 15.7s\n",
      "600:\tlearn: 0.0532640\ttest: 0.0648696\tbest: 0.0648081 (589)\ttotal: 15.3s\tremaining: 10.2s\n",
      "Stopped by overfitting detector  (100 iterations wait)\n",
      "\n",
      "bestTest = 0.06450449611\n",
      "bestIteration = 659\n",
      "\n",
      "Shrink model to first 660 iterations.\n"
     ]
    },
    {
     "data": {
      "text/plain": [
       "<catboost.core.CatBoostClassifier at 0x13b987890>"
      ]
     },
     "execution_count": 204,
     "metadata": {},
     "output_type": "execute_result"
    }
   ],
   "source": [
    "# Baseline model with full list of features\n",
    "\n",
    "cat_features = ['category_list', 'category_list_new', 'country_code', 'state_code', 'region', 'city']\n",
    "\n",
    "X = df.drop(columns=['name', 'status', 'founded_at', 'closed_at'])\n",
    "y = df['status']\n",
    "\n",
    "X_train, X_val, y_train, y_val = train_test_split(X, y, test_size=0.2, random_state=42)\n",
    "\n",
    "\n",
    "clf = CatBoostClassifier(thread_count=-1, random_seed=42, cat_features=cat_features)\n",
    "\n",
    "clf.fit(\n",
    "    X_train,\n",
    "    y_train,\n",
    "    eval_set=(X_val, y_val),\n",
    "    verbose=200,\n",
    "    use_best_model=True,\n",
    "    plot=False,\n",
    "    early_stopping_rounds=100\n",
    ")"
   ]
  },
  {
   "cell_type": "code",
   "execution_count": 205,
   "metadata": {},
   "outputs": [
    {
     "data": {
      "text/html": [
       "<div>\n",
       "<style scoped>\n",
       "    .dataframe tbody tr th:only-of-type {\n",
       "        vertical-align: middle;\n",
       "    }\n",
       "\n",
       "    .dataframe tbody tr th {\n",
       "        vertical-align: top;\n",
       "    }\n",
       "\n",
       "    .dataframe thead th {\n",
       "        text-align: right;\n",
       "    }\n",
       "</style>\n",
       "<table border=\"1\" class=\"dataframe\">\n",
       "  <thead>\n",
       "    <tr style=\"text-align: right;\">\n",
       "      <th></th>\n",
       "      <th>Feature Id</th>\n",
       "      <th>Importances</th>\n",
       "    </tr>\n",
       "  </thead>\n",
       "  <tbody>\n",
       "    <tr>\n",
       "      <th>0</th>\n",
       "      <td>lifetime</td>\n",
       "      <td>36.27</td>\n",
       "    </tr>\n",
       "    <tr>\n",
       "      <th>1</th>\n",
       "      <td>first_funding_at</td>\n",
       "      <td>12.71</td>\n",
       "    </tr>\n",
       "    <tr>\n",
       "      <th>2</th>\n",
       "      <td>last_funding_at</td>\n",
       "      <td>10.34</td>\n",
       "    </tr>\n",
       "    <tr>\n",
       "      <th>3</th>\n",
       "      <td>funding_total_usd</td>\n",
       "      <td>6.00</td>\n",
       "    </tr>\n",
       "    <tr>\n",
       "      <th>4</th>\n",
       "      <td>category_list</td>\n",
       "      <td>4.39</td>\n",
       "    </tr>\n",
       "    <tr>\n",
       "      <th>5</th>\n",
       "      <td>country_code</td>\n",
       "      <td>4.16</td>\n",
       "    </tr>\n",
       "    <tr>\n",
       "      <th>6</th>\n",
       "      <td>first_funding_at_year</td>\n",
       "      <td>4.13</td>\n",
       "    </tr>\n",
       "    <tr>\n",
       "      <th>7</th>\n",
       "      <td>category_list_new</td>\n",
       "      <td>2.87</td>\n",
       "    </tr>\n",
       "    <tr>\n",
       "      <th>8</th>\n",
       "      <td>first_funding_at_day</td>\n",
       "      <td>2.68</td>\n",
       "    </tr>\n",
       "    <tr>\n",
       "      <th>9</th>\n",
       "      <td>last_funding_at_year</td>\n",
       "      <td>2.66</td>\n",
       "    </tr>\n",
       "    <tr>\n",
       "      <th>10</th>\n",
       "      <td>funding_duration</td>\n",
       "      <td>2.36</td>\n",
       "    </tr>\n",
       "    <tr>\n",
       "      <th>11</th>\n",
       "      <td>region</td>\n",
       "      <td>2.23</td>\n",
       "    </tr>\n",
       "    <tr>\n",
       "      <th>12</th>\n",
       "      <td>state_code</td>\n",
       "      <td>2.11</td>\n",
       "    </tr>\n",
       "    <tr>\n",
       "      <th>13</th>\n",
       "      <td>city</td>\n",
       "      <td>1.55</td>\n",
       "    </tr>\n",
       "    <tr>\n",
       "      <th>14</th>\n",
       "      <td>last_funding_at_month</td>\n",
       "      <td>1.54</td>\n",
       "    </tr>\n",
       "    <tr>\n",
       "      <th>15</th>\n",
       "      <td>last_funding_at_day</td>\n",
       "      <td>1.52</td>\n",
       "    </tr>\n",
       "    <tr>\n",
       "      <th>16</th>\n",
       "      <td>first_funding_at_month</td>\n",
       "      <td>1.47</td>\n",
       "    </tr>\n",
       "    <tr>\n",
       "      <th>17</th>\n",
       "      <td>funding_rounds</td>\n",
       "      <td>1.02</td>\n",
       "    </tr>\n",
       "  </tbody>\n",
       "</table>\n",
       "</div>"
      ],
      "text/plain": [
       "                Feature Id  Importances\n",
       "0                 lifetime        36.27\n",
       "1         first_funding_at        12.71\n",
       "2          last_funding_at        10.34\n",
       "3        funding_total_usd         6.00\n",
       "4            category_list         4.39\n",
       "5             country_code         4.16\n",
       "6    first_funding_at_year         4.13\n",
       "7        category_list_new         2.87\n",
       "8     first_funding_at_day         2.68\n",
       "9     last_funding_at_year         2.66\n",
       "10        funding_duration         2.36\n",
       "11                  region         2.23\n",
       "12              state_code         2.11\n",
       "13                    city         1.55\n",
       "14   last_funding_at_month         1.54\n",
       "15     last_funding_at_day         1.52\n",
       "16  first_funding_at_month         1.47\n",
       "17          funding_rounds         1.02"
      ]
     },
     "execution_count": 205,
     "metadata": {},
     "output_type": "execute_result"
    }
   ],
   "source": [
    "# Output feature importance to understand which features are driving the predictions\n",
    "clf.get_feature_importance(prettified=True)"
   ]
  },
  {
   "cell_type": "code",
   "execution_count": 206,
   "metadata": {},
   "outputs": [
    {
     "name": "stdout",
     "output_type": "stream",
     "text": [
      "Stopped by overfitting detector  (50 iterations wait)\n",
      "\n",
      "bestTest = 0.9721394614\n",
      "bestIteration = 455\n",
      "\n",
      "0:\tloss: 0.9721395\tbest: 0.9721395 (0)\ttotal: 9.03s\tremaining: 2m 33s\n",
      "Stopped by overfitting detector  (50 iterations wait)\n",
      "\n",
      "bestTest = 0.9726066626\n",
      "bestIteration = 356\n",
      "\n",
      "1:\tloss: 0.9726067\tbest: 0.9726067 (1)\ttotal: 14.6s\tremaining: 1m 56s\n",
      "Stopped by overfitting detector  (50 iterations wait)\n",
      "\n",
      "bestTest = 0.9735346226\n",
      "bestIteration = 411\n",
      "\n",
      "2:\tloss: 0.9735346\tbest: 0.9735346 (2)\ttotal: 20.4s\tremaining: 1m 41s\n",
      "Stopped by overfitting detector  (50 iterations wait)\n",
      "\n",
      "bestTest = 0.9721394614\n",
      "bestIteration = 455\n",
      "\n",
      "3:\tloss: 0.9721395\tbest: 0.9735346 (2)\ttotal: 26.4s\tremaining: 1m 32s\n",
      "Stopped by overfitting detector  (50 iterations wait)\n",
      "\n",
      "bestTest = 0.9726066626\n",
      "bestIteration = 356\n",
      "\n",
      "4:\tloss: 0.9726067\tbest: 0.9735346 (2)\ttotal: 31.6s\tremaining: 1m 22s\n",
      "Stopped by overfitting detector  (50 iterations wait)\n",
      "\n",
      "bestTest = 0.9735346226\n",
      "bestIteration = 411\n",
      "\n",
      "5:\tloss: 0.9735346\tbest: 0.9735346 (2)\ttotal: 37.3s\tremaining: 1m 14s\n",
      "Stopped by overfitting detector  (50 iterations wait)\n",
      "\n",
      "bestTest = 0.9721394614\n",
      "bestIteration = 455\n",
      "\n",
      "6:\tloss: 0.9721395\tbest: 0.9735346 (2)\ttotal: 43.2s\tremaining: 1m 7s\n",
      "Stopped by overfitting detector  (50 iterations wait)\n",
      "\n",
      "bestTest = 0.9726066626\n",
      "bestIteration = 356\n",
      "\n",
      "7:\tloss: 0.9726067\tbest: 0.9735346 (2)\ttotal: 48.2s\tremaining: 1m\n",
      "Stopped by overfitting detector  (50 iterations wait)\n",
      "\n",
      "bestTest = 0.9735346226\n",
      "bestIteration = 411\n",
      "\n",
      "8:\tloss: 0.9735346\tbest: 0.9735346 (2)\ttotal: 54.5s\tremaining: 54.5s\n",
      "Stopped by overfitting detector  (50 iterations wait)\n",
      "\n",
      "bestTest = 0.9717816319\n",
      "bestIteration = 231\n",
      "\n",
      "9:\tloss: 0.9717816\tbest: 0.9735346 (2)\ttotal: 59.3s\tremaining: 47.4s\n",
      "Stopped by overfitting detector  (50 iterations wait)\n",
      "\n",
      "bestTest = 0.9740109644\n",
      "bestIteration = 364\n",
      "\n",
      "10:\tloss: 0.9740110\tbest: 0.9740110 (10)\ttotal: 1m 6s\tremaining: 42.3s\n",
      "Stopped by overfitting detector  (50 iterations wait)\n",
      "\n",
      "bestTest = 0.9737993115\n",
      "bestIteration = 180\n",
      "\n",
      "11:\tloss: 0.9737993\tbest: 0.9740110 (10)\ttotal: 1m 10s\tremaining: 35.5s\n",
      "Stopped by overfitting detector  (50 iterations wait)\n",
      "\n",
      "bestTest = 0.9717816319\n",
      "bestIteration = 231\n",
      "\n",
      "12:\tloss: 0.9717816\tbest: 0.9740110 (10)\ttotal: 1m 15s\tremaining: 29.1s\n",
      "Stopped by overfitting detector  (50 iterations wait)\n",
      "\n",
      "bestTest = 0.9740109644\n",
      "bestIteration = 364\n",
      "\n",
      "13:\tloss: 0.9740110\tbest: 0.9740110 (10)\ttotal: 1m 22s\tremaining: 23.6s\n",
      "Stopped by overfitting detector  (50 iterations wait)\n",
      "\n",
      "bestTest = 0.9737993115\n",
      "bestIteration = 180\n",
      "\n",
      "14:\tloss: 0.9737993\tbest: 0.9740110 (10)\ttotal: 1m 27s\tremaining: 17.6s\n",
      "Stopped by overfitting detector  (50 iterations wait)\n",
      "\n",
      "bestTest = 0.9717816319\n",
      "bestIteration = 231\n",
      "\n",
      "15:\tloss: 0.9717816\tbest: 0.9740110 (10)\ttotal: 1m 32s\tremaining: 11.5s\n",
      "Stopped by overfitting detector  (50 iterations wait)\n",
      "\n",
      "bestTest = 0.9740109644\n",
      "bestIteration = 364\n",
      "\n",
      "16:\tloss: 0.9740110\tbest: 0.9740110 (10)\ttotal: 1m 39s\tremaining: 5.84s\n",
      "Stopped by overfitting detector  (50 iterations wait)\n",
      "\n",
      "bestTest = 0.9737993115\n",
      "bestIteration = 180\n",
      "\n",
      "17:\tloss: 0.9737993\tbest: 0.9740110 (10)\ttotal: 1m 43s\tremaining: 0us\n",
      "Estimating final quality...\n",
      "Training on fold [0/5]\n",
      "\n",
      "bestTest = 0.9739852662\n",
      "bestIteration = 321\n",
      "\n",
      "Training on fold [1/5]\n",
      "\n",
      "bestTest = 0.9683784489\n",
      "bestIteration = 197\n",
      "\n",
      "Training on fold [2/5]\n",
      "\n",
      "bestTest = 0.9695800555\n",
      "bestIteration = 134\n",
      "\n",
      "Training on fold [3/5]\n",
      "\n",
      "bestTest = 0.9724619953\n",
      "bestIteration = 383\n",
      "\n",
      "Training on fold [4/5]\n",
      "\n",
      "bestTest = 0.9735613213\n",
      "bestIteration = 449\n",
      "\n",
      "Best Parameters: {'depth': 6, 'od_wait': 50, 'learning_rate': 0.06, 'iterations': 1000}\n"
     ]
    }
   ],
   "source": [
    "selected_features = [\n",
    "    'lifetime',\n",
    "    'first_funding_at',\n",
    "    'last_funding_at',\n",
    "    'funding_total_usd',\n",
    "    'category_list_new',\n",
    "    'region',\n",
    "    'first_funding_at_day',\n",
    "    'funding_duration'\n",
    "]\n",
    "X = df[selected_features]\n",
    "\n",
    "cat_features=['category_list_new', 'region']\n",
    "# Training and tuning\n",
    "\n",
    "dataset = Pool(X, label=y, cat_features=cat_features)\n",
    "\n",
    "clf = CatBoostClassifier(\n",
    "    auto_class_weights='SqrtBalanced',\n",
    "    random_seed=123,\n",
    "    verbose=0,  # Set to 0 to suppress the output\n",
    "    eval_metric='F1'  # Specify F1 as the evaluation metric\n",
    ")\n",
    "\n",
    "# Parameter grid\n",
    "param_grid = {\n",
    "    'depth': [4, 6],\n",
    "    'learning_rate': [0.03, 0.06, 0.1],\n",
    "    'iterations': [1000, 2000, 3500],\n",
    "    'early_stopping_rounds': [50]\n",
    "}\n",
    "\n",
    "# Perform the grid search with F1 as the evaluation metric\n",
    "grid_search_result = clf.grid_search(\n",
    "    param_grid,\n",
    "    dataset,\n",
    "    cv=5,\n",
    "    stratified=True, \n",
    "    partition_random_seed=123,\n",
    "    refit=True  \n",
    ")\n",
    "\n",
    "# Print the best parameters and the corresponding score\n",
    "print(\"Best Parameters:\", grid_search_result['params'])"
   ]
  },
  {
   "cell_type": "markdown",
   "metadata": {},
   "source": [
    "# 5. Predictions"
   ]
  },
  {
   "cell_type": "code",
   "execution_count": 207,
   "metadata": {},
   "outputs": [
    {
     "data": {
      "text/plain": [
       "array(['operating', 'operating', 'operating', ..., 'operating',\n",
       "       'operating', 'operating'], dtype=object)"
      ]
     },
     "execution_count": 207,
     "metadata": {},
     "output_type": "execute_result"
    }
   ],
   "source": [
    "# Test data with the same features as the training data\n",
    "X_test = test[selected_features]\n",
    "\n",
    "# Pool for test data\n",
    "test_pool = Pool(data=X_test, cat_features=cat_features)\n",
    "\n",
    "# Predictions using the trained CatBoost model\n",
    "predictions = clf.predict(test_pool)\n",
    "\n",
    "predictions"
   ]
  },
  {
   "cell_type": "code",
   "execution_count": 208,
   "metadata": {},
   "outputs": [
    {
     "data": {
      "text/html": [
       "<div>\n",
       "<style scoped>\n",
       "    .dataframe tbody tr th:only-of-type {\n",
       "        vertical-align: middle;\n",
       "    }\n",
       "\n",
       "    .dataframe tbody tr th {\n",
       "        vertical-align: top;\n",
       "    }\n",
       "\n",
       "    .dataframe thead th {\n",
       "        text-align: right;\n",
       "    }\n",
       "</style>\n",
       "<table border=\"1\" class=\"dataframe\">\n",
       "  <thead>\n",
       "    <tr style=\"text-align: right;\">\n",
       "      <th></th>\n",
       "      <th>name</th>\n",
       "      <th>category_list</th>\n",
       "      <th>funding_total_usd</th>\n",
       "      <th>country_code</th>\n",
       "      <th>state_code</th>\n",
       "      <th>region</th>\n",
       "      <th>city</th>\n",
       "      <th>funding_rounds</th>\n",
       "      <th>first_funding_at</th>\n",
       "      <th>last_funding_at</th>\n",
       "      <th>lifetime</th>\n",
       "      <th>category_list_new</th>\n",
       "      <th>funding_duration</th>\n",
       "      <th>first_funding_at_day</th>\n",
       "      <th>first_funding_at_month</th>\n",
       "      <th>first_funding_at_year</th>\n",
       "      <th>last_funding_at_day</th>\n",
       "      <th>last_funding_at_month</th>\n",
       "      <th>last_funding_at_year</th>\n",
       "      <th>status</th>\n",
       "    </tr>\n",
       "  </thead>\n",
       "  <tbody>\n",
       "    <tr>\n",
       "      <th>0</th>\n",
       "      <td>Crystalsol</td>\n",
       "      <td>Clean Technology</td>\n",
       "      <td>2,819,200.00</td>\n",
       "      <td>NIC</td>\n",
       "      <td>17</td>\n",
       "      <td>Missing</td>\n",
       "      <td>Missing</td>\n",
       "      <td>1</td>\n",
       "      <td>2009-07-01</td>\n",
       "      <td>2009-07-01</td>\n",
       "      <td>3501</td>\n",
       "      <td>Clean Technology</td>\n",
       "      <td>0</td>\n",
       "      <td>1</td>\n",
       "      <td>7</td>\n",
       "      <td>2009</td>\n",
       "      <td>1</td>\n",
       "      <td>7</td>\n",
       "      <td>2009</td>\n",
       "      <td>operating</td>\n",
       "    </tr>\n",
       "    <tr>\n",
       "      <th>1</th>\n",
       "      <td>JBI Fish &amp; Wings</td>\n",
       "      <td>Hospitality</td>\n",
       "      <td>884,185.79</td>\n",
       "      <td>USA</td>\n",
       "      <td>TN</td>\n",
       "      <td>TN - Other</td>\n",
       "      <td>Humboldt</td>\n",
       "      <td>1</td>\n",
       "      <td>2010-07-28</td>\n",
       "      <td>2010-07-28</td>\n",
       "      <td>2717</td>\n",
       "      <td>Other</td>\n",
       "      <td>0</td>\n",
       "      <td>28</td>\n",
       "      <td>7</td>\n",
       "      <td>2010</td>\n",
       "      <td>28</td>\n",
       "      <td>7</td>\n",
       "      <td>2010</td>\n",
       "      <td>operating</td>\n",
       "    </tr>\n",
       "    <tr>\n",
       "      <th>2</th>\n",
       "      <td>COINPLUS</td>\n",
       "      <td>Finance</td>\n",
       "      <td>428,257.00</td>\n",
       "      <td>LUX</td>\n",
       "      <td>3</td>\n",
       "      <td>Esch-sur-alzette</td>\n",
       "      <td>Esch-sur-alzette</td>\n",
       "      <td>2</td>\n",
       "      <td>2014-05-15</td>\n",
       "      <td>2014-09-18</td>\n",
       "      <td>1295</td>\n",
       "      <td>Finance</td>\n",
       "      <td>126</td>\n",
       "      <td>15</td>\n",
       "      <td>5</td>\n",
       "      <td>2014</td>\n",
       "      <td>18</td>\n",
       "      <td>9</td>\n",
       "      <td>2014</td>\n",
       "      <td>operating</td>\n",
       "    </tr>\n",
       "    <tr>\n",
       "      <th>3</th>\n",
       "      <td>Imagine Communications</td>\n",
       "      <td>Software|Video|Video Streaming</td>\n",
       "      <td>34,700,000.00</td>\n",
       "      <td>USA</td>\n",
       "      <td>CA</td>\n",
       "      <td>San Diego</td>\n",
       "      <td>San Diego</td>\n",
       "      <td>4</td>\n",
       "      <td>2005-01-01</td>\n",
       "      <td>2010-04-20</td>\n",
       "      <td>4748</td>\n",
       "      <td>Software|Other|Other</td>\n",
       "      <td>1935</td>\n",
       "      <td>1</td>\n",
       "      <td>1</td>\n",
       "      <td>2005</td>\n",
       "      <td>20</td>\n",
       "      <td>4</td>\n",
       "      <td>2010</td>\n",
       "      <td>operating</td>\n",
       "    </tr>\n",
       "    <tr>\n",
       "      <th>4</th>\n",
       "      <td>DNA13</td>\n",
       "      <td>Software</td>\n",
       "      <td>4,530,000.00</td>\n",
       "      <td>CAN</td>\n",
       "      <td>ON</td>\n",
       "      <td>Ottawa</td>\n",
       "      <td>Ottawa</td>\n",
       "      <td>1</td>\n",
       "      <td>2007-05-08</td>\n",
       "      <td>2007-05-08</td>\n",
       "      <td>6209</td>\n",
       "      <td>Software</td>\n",
       "      <td>0</td>\n",
       "      <td>8</td>\n",
       "      <td>5</td>\n",
       "      <td>2007</td>\n",
       "      <td>8</td>\n",
       "      <td>5</td>\n",
       "      <td>2007</td>\n",
       "      <td>operating</td>\n",
       "    </tr>\n",
       "  </tbody>\n",
       "</table>\n",
       "</div>"
      ],
      "text/plain": [
       "                     name                   category_list  funding_total_usd  \\\n",
       "0              Crystalsol                Clean Technology       2,819,200.00   \n",
       "1        JBI Fish & Wings                     Hospitality         884,185.79   \n",
       "2                COINPLUS                         Finance         428,257.00   \n",
       "3  Imagine Communications  Software|Video|Video Streaming      34,700,000.00   \n",
       "4                   DNA13                        Software       4,530,000.00   \n",
       "\n",
       "  country_code state_code            region              city  funding_rounds  \\\n",
       "0          NIC         17           Missing           Missing               1   \n",
       "1          USA         TN        TN - Other          Humboldt               1   \n",
       "2          LUX          3  Esch-sur-alzette  Esch-sur-alzette               2   \n",
       "3          USA         CA         San Diego         San Diego               4   \n",
       "4          CAN         ON            Ottawa            Ottawa               1   \n",
       "\n",
       "  first_funding_at last_funding_at  lifetime     category_list_new  \\\n",
       "0       2009-07-01      2009-07-01      3501      Clean Technology   \n",
       "1       2010-07-28      2010-07-28      2717                 Other   \n",
       "2       2014-05-15      2014-09-18      1295               Finance   \n",
       "3       2005-01-01      2010-04-20      4748  Software|Other|Other   \n",
       "4       2007-05-08      2007-05-08      6209              Software   \n",
       "\n",
       "   funding_duration  first_funding_at_day  first_funding_at_month  \\\n",
       "0                 0                     1                       7   \n",
       "1                 0                    28                       7   \n",
       "2               126                    15                       5   \n",
       "3              1935                     1                       1   \n",
       "4                 0                     8                       5   \n",
       "\n",
       "   first_funding_at_year  last_funding_at_day  last_funding_at_month  \\\n",
       "0                   2009                    1                      7   \n",
       "1                   2010                   28                      7   \n",
       "2                   2014                   18                      9   \n",
       "3                   2005                   20                      4   \n",
       "4                   2007                    8                      5   \n",
       "\n",
       "   last_funding_at_year     status  \n",
       "0                  2009  operating  \n",
       "1                  2010  operating  \n",
       "2                  2014  operating  \n",
       "3                  2010  operating  \n",
       "4                  2007  operating  "
      ]
     },
     "execution_count": 208,
     "metadata": {},
     "output_type": "execute_result"
    }
   ],
   "source": [
    "test['status'] = predictions\n",
    "test.head()"
   ]
  },
  {
   "cell_type": "code",
   "execution_count": 209,
   "metadata": {},
   "outputs": [],
   "source": [
    "submission = test[['name', 'status']]"
   ]
  },
  {
   "cell_type": "code",
   "execution_count": 210,
   "metadata": {},
   "outputs": [
    {
     "data": {
      "text/html": [
       "<div>\n",
       "<style scoped>\n",
       "    .dataframe tbody tr th:only-of-type {\n",
       "        vertical-align: middle;\n",
       "    }\n",
       "\n",
       "    .dataframe tbody tr th {\n",
       "        vertical-align: top;\n",
       "    }\n",
       "\n",
       "    .dataframe thead th {\n",
       "        text-align: right;\n",
       "    }\n",
       "</style>\n",
       "<table border=\"1\" class=\"dataframe\">\n",
       "  <thead>\n",
       "    <tr style=\"text-align: right;\">\n",
       "      <th></th>\n",
       "      <th>name</th>\n",
       "      <th>status</th>\n",
       "    </tr>\n",
       "  </thead>\n",
       "  <tbody>\n",
       "    <tr>\n",
       "      <th>0</th>\n",
       "      <td>Crystalsol</td>\n",
       "      <td>operating</td>\n",
       "    </tr>\n",
       "    <tr>\n",
       "      <th>1</th>\n",
       "      <td>JBI Fish &amp; Wings</td>\n",
       "      <td>operating</td>\n",
       "    </tr>\n",
       "    <tr>\n",
       "      <th>2</th>\n",
       "      <td>COINPLUS</td>\n",
       "      <td>operating</td>\n",
       "    </tr>\n",
       "    <tr>\n",
       "      <th>3</th>\n",
       "      <td>Imagine Communications</td>\n",
       "      <td>operating</td>\n",
       "    </tr>\n",
       "    <tr>\n",
       "      <th>4</th>\n",
       "      <td>DNA13</td>\n",
       "      <td>operating</td>\n",
       "    </tr>\n",
       "  </tbody>\n",
       "</table>\n",
       "</div>"
      ],
      "text/plain": [
       "                     name     status\n",
       "0              Crystalsol  operating\n",
       "1        JBI Fish & Wings  operating\n",
       "2                COINPLUS  operating\n",
       "3  Imagine Communications  operating\n",
       "4                   DNA13  operating"
      ]
     },
     "execution_count": 210,
     "metadata": {},
     "output_type": "execute_result"
    }
   ],
   "source": [
    "submission.head()"
   ]
  },
  {
   "cell_type": "code",
   "execution_count": 211,
   "metadata": {},
   "outputs": [],
   "source": [
    "submission.to_csv('predictions_11_.csv', index=False)"
   ]
  },
  {
   "cell_type": "markdown",
   "metadata": {},
   "source": [
    "f1 on test = 0.884"
   ]
  },
  {
   "cell_type": "code",
   "execution_count": 212,
   "metadata": {},
   "outputs": [],
   "source": [
    "# Generate another feature\n",
    "df['ref_date'] = pd.to_datetime('2018-01-01')\n",
    "df['first_funding_to_ref_date'] = (df['ref_date'] - df['first_funding_at']).dt.days\n",
    "test['ref_date'] = pd.to_datetime('2018-01-01')\n",
    "test['first_funding_to_ref_date'] = (test['ref_date'] - test['first_funding_at']).dt.days"
   ]
  },
  {
   "cell_type": "code",
   "execution_count": 213,
   "metadata": {},
   "outputs": [
    {
     "name": "stdout",
     "output_type": "stream",
     "text": [
      "Stopped by overfitting detector  (50 iterations wait)\n",
      "\n",
      "bestTest = 0.9713154695\n",
      "bestIteration = 249\n",
      "\n",
      "0:\tloss: 0.9713155\tbest: 0.9713155 (0)\ttotal: 3.77s\tremaining: 1m 4s\n",
      "Stopped by overfitting detector  (50 iterations wait)\n",
      "\n",
      "bestTest = 0.9709981725\n",
      "bestIteration = 116\n",
      "\n",
      "1:\tloss: 0.9709982\tbest: 0.9713155 (0)\ttotal: 6.09s\tremaining: 48.8s\n",
      "Stopped by overfitting detector  (50 iterations wait)\n",
      "\n",
      "bestTest = 0.9714643265\n",
      "bestIteration = 110\n",
      "\n",
      "2:\tloss: 0.9714643\tbest: 0.9714643 (2)\ttotal: 8.21s\tremaining: 41.1s\n",
      "Stopped by overfitting detector  (50 iterations wait)\n",
      "\n",
      "bestTest = 0.9713154695\n",
      "bestIteration = 249\n",
      "\n",
      "3:\tloss: 0.9713155\tbest: 0.9714643 (2)\ttotal: 12.2s\tremaining: 42.6s\n",
      "Stopped by overfitting detector  (50 iterations wait)\n",
      "\n",
      "bestTest = 0.9709981725\n",
      "bestIteration = 116\n",
      "\n",
      "4:\tloss: 0.9709982\tbest: 0.9714643 (2)\ttotal: 14.4s\tremaining: 37.5s\n",
      "Stopped by overfitting detector  (50 iterations wait)\n",
      "\n",
      "bestTest = 0.9714643265\n",
      "bestIteration = 110\n",
      "\n",
      "5:\tloss: 0.9714643\tbest: 0.9714643 (2)\ttotal: 16.6s\tremaining: 33.2s\n",
      "Stopped by overfitting detector  (50 iterations wait)\n",
      "\n",
      "bestTest = 0.9713154695\n",
      "bestIteration = 249\n",
      "\n",
      "6:\tloss: 0.9713155\tbest: 0.9714643 (2)\ttotal: 20.6s\tremaining: 32.4s\n",
      "Stopped by overfitting detector  (50 iterations wait)\n",
      "\n",
      "bestTest = 0.9709981725\n",
      "bestIteration = 116\n",
      "\n",
      "7:\tloss: 0.9709982\tbest: 0.9714643 (2)\ttotal: 23s\tremaining: 28.7s\n",
      "Stopped by overfitting detector  (50 iterations wait)\n",
      "\n",
      "bestTest = 0.9714643265\n",
      "bestIteration = 110\n",
      "\n",
      "8:\tloss: 0.9714643\tbest: 0.9714643 (2)\ttotal: 25.1s\tremaining: 25.1s\n",
      "Stopped by overfitting detector  (50 iterations wait)\n",
      "\n",
      "bestTest = 0.972450879\n",
      "bestIteration = 366\n",
      "\n",
      "9:\tloss: 0.9724509\tbest: 0.9724509 (9)\ttotal: 32.5s\tremaining: 26s\n",
      "Stopped by overfitting detector  (50 iterations wait)\n",
      "\n",
      "bestTest = 0.9716230036\n",
      "bestIteration = 93\n",
      "\n",
      "10:\tloss: 0.9716230\tbest: 0.9724509 (9)\ttotal: 35.6s\tremaining: 22.6s\n",
      "Stopped by overfitting detector  (50 iterations wait)\n",
      "\n",
      "bestTest = 0.9737010919\n",
      "bestIteration = 169\n",
      "\n",
      "11:\tloss: 0.9737011\tbest: 0.9737011 (11)\ttotal: 39.5s\tremaining: 19.7s\n",
      "Stopped by overfitting detector  (50 iterations wait)\n",
      "\n",
      "bestTest = 0.972450879\n",
      "bestIteration = 366\n",
      "\n",
      "12:\tloss: 0.9724509\tbest: 0.9737011 (11)\ttotal: 46.5s\tremaining: 17.9s\n",
      "Stopped by overfitting detector  (50 iterations wait)\n",
      "\n",
      "bestTest = 0.9716230036\n",
      "bestIteration = 93\n",
      "\n",
      "13:\tloss: 0.9716230\tbest: 0.9737011 (11)\ttotal: 48.7s\tremaining: 13.9s\n",
      "Stopped by overfitting detector  (50 iterations wait)\n",
      "\n",
      "bestTest = 0.9737010919\n",
      "bestIteration = 169\n",
      "\n",
      "14:\tloss: 0.9737011\tbest: 0.9737011 (11)\ttotal: 52.2s\tremaining: 10.4s\n",
      "Stopped by overfitting detector  (50 iterations wait)\n",
      "\n",
      "bestTest = 0.972450879\n",
      "bestIteration = 366\n",
      "\n",
      "15:\tloss: 0.9724509\tbest: 0.9737011 (11)\ttotal: 59s\tremaining: 7.38s\n",
      "Stopped by overfitting detector  (50 iterations wait)\n",
      "\n",
      "bestTest = 0.9716230036\n",
      "bestIteration = 93\n",
      "\n",
      "16:\tloss: 0.9716230\tbest: 0.9737011 (11)\ttotal: 1m 1s\tremaining: 3.61s\n",
      "Stopped by overfitting detector  (50 iterations wait)\n",
      "\n",
      "bestTest = 0.9737010919\n",
      "bestIteration = 169\n",
      "\n",
      "17:\tloss: 0.9737011\tbest: 0.9737011 (11)\ttotal: 1m 6s\tremaining: 0us\n",
      "Estimating final quality...\n",
      "Training on fold [0/5]\n",
      "\n",
      "bestTest = 0.9740406455\n",
      "bestIteration = 186\n",
      "\n",
      "Training on fold [1/5]\n",
      "\n",
      "bestTest = 0.9701435624\n",
      "bestIteration = 194\n",
      "\n",
      "Training on fold [2/5]\n",
      "\n",
      "bestTest = 0.9719530761\n",
      "bestIteration = 193\n",
      "\n",
      "Training on fold [3/5]\n",
      "\n",
      "bestTest = 0.9716256359\n",
      "bestIteration = 190\n",
      "\n",
      "Training on fold [4/5]\n",
      "\n",
      "bestTest = 0.9739801318\n",
      "bestIteration = 359\n",
      "\n",
      "Best Parameters: {'depth': 6, 'od_wait': 50, 'learning_rate': 0.1, 'iterations': 1000}\n"
     ]
    }
   ],
   "source": [
    "selected_features = [\n",
    "    'lifetime',\n",
    "    'first_funding_at',\n",
    "    'last_funding_at',\n",
    "    'funding_total_usd',\n",
    "    'category_list_new',\n",
    "    'region',\n",
    "    #'city',\n",
    "    #'first_funding_at_year',\n",
    "    'first_funding_at_day',\n",
    "    'funding_duration',\n",
    "    'first_funding_to_ref_date'\n",
    "]\n",
    "X = df[selected_features]\n",
    "\n",
    "cat_features=['category_list_new', 'region']\n",
    "# Training and tuning\n",
    "\n",
    "dataset = Pool(X, label=y, cat_features=cat_features)\n",
    "\n",
    "clf = CatBoostClassifier(\n",
    "    auto_class_weights='SqrtBalanced',\n",
    "    random_seed=123,\n",
    "    verbose=0,  # Set to 0 to suppress the output\n",
    "    eval_metric='F1'  # Specify F1 as the evaluation metric\n",
    ")\n",
    "\n",
    "# Parameter grid\n",
    "param_grid = {\n",
    "    'depth': [4, 6],\n",
    "    'learning_rate': [0.03, 0.06, 0.1],\n",
    "    'iterations': [1000, 2000, 3500],\n",
    "    'early_stopping_rounds': [50]\n",
    "}\n",
    "\n",
    "# Perform the grid search with F1 as the evaluation metric\n",
    "grid_search_result = clf.grid_search(\n",
    "    param_grid,\n",
    "    dataset,\n",
    "    cv=5,\n",
    "    stratified=True, \n",
    "    partition_random_seed=123,\n",
    "    refit=True  \n",
    ")\n",
    "\n",
    "# Print the best parameters and the corresponding score\n",
    "print(\"Best Parameters:\", grid_search_result['params'])"
   ]
  },
  {
   "cell_type": "code",
   "execution_count": 150,
   "metadata": {},
   "outputs": [],
   "source": [
    "# Test data with the same features as the training data\n",
    "X_test = test[selected_features]\n",
    "\n",
    "# Pool for test data\n",
    "test_pool = Pool(data=X_test, cat_features=cat_features)\n",
    "\n",
    "# Predictions using the trained CatBoost model\n",
    "predictions = clf.predict(test_pool)\n",
    "\n",
    "test['status'] = predictions\n",
    "submission = test[['name', 'status']]\n",
    "submission.to_csv('predictions_11_.csv', index=False)"
   ]
  },
  {
   "cell_type": "markdown",
   "metadata": {},
   "source": [
    "f1 on test = 0.88540"
   ]
  },
  {
   "cell_type": "markdown",
   "metadata": {},
   "source": [
    "# 6. Feature Importance"
   ]
  },
  {
   "cell_type": "code",
   "execution_count": 217,
   "metadata": {},
   "outputs": [
    {
     "name": "stdout",
     "output_type": "stream",
     "text": [
      "                     Feature  Importance\n",
      "0                   lifetime       40.23\n",
      "2            last_funding_at       10.81\n",
      "3          funding_total_usd        8.70\n",
      "5                     region        8.64\n",
      "1           first_funding_at        8.40\n",
      "8  first_funding_to_ref_date        7.67\n",
      "4          category_list_new        7.47\n",
      "6       first_funding_at_day        4.74\n",
      "7           funding_duration        3.35\n"
     ]
    },
    {
     "data": {
      "image/png": "[encoded data removed]",
      "text/plain": [
       "<Figure size 1000x600 with 1 Axes>"
      ]
     },
     "metadata": {},
     "output_type": "display_data"
    }
   ],
   "source": [
    "feature_importances = clf.get_feature_importance()\n",
    "\n",
    "importance_df = pd.DataFrame({\n",
    "    'Feature': selected_features,\n",
    "    'Importance': feature_importances\n",
    "})\n",
    "\n",
    "importance_df = importance_df.sort_values(by='Importance', ascending=False)\n",
    "\n",
    "print(importance_df)\n",
    "\n",
    "plt.figure(figsize=(10, 6))\n",
    "plt.barh(importance_df['Feature'], importance_df['Importance'], color='skyblue')\n",
    "plt.xlabel('Importance')\n",
    "plt.title('Feature Importance')\n",
    "plt.show()"
   ]
  },
  {
   "cell_type": "markdown",
   "metadata": {},
   "source": [
    "# 7. Conclusion"
   ]
  },
  {
   "cell_type": "markdown",
   "metadata": {},
   "source": [
    "In this study, I developed a machine learning model using CatBoost to predict startup closures. The model proved to be highly effective, achieving an impressive F1 score of 0.88.\n",
    "\n",
    "My analysis of feature importance revealed that key factors influencing a startup's success include stable funding, the date of last funding, and the region. \n",
    "\n",
    "The results of this research can be valuable for investors and entrepreneurs looking to assess risks and make informed decisions. By focusing on startups with a lifetime exceeding 2 years, the model offers unique insights into long-term potential.\n",
    "\n",
    "Looking ahead, we suggest several avenues for further research:\n",
    "\n",
    "- Incorporating additional data, especially more recent information (including new data post-2018).\n",
    "- Exploring other machine learning models and ensemble methods.\n",
    "- Framing the problem as a time series analysis (e.g., \"How long will the startup survive?\" or \"Will the startup close within the next n years?\").\n"
   ]
  }
 ],
 "metadata": {
  "kernelspec": {
   "display_name": "base",
   "language": "python",
   "name": "python3"
  },
  "language_info": {
   "codemirror_mode": {
    "name": "ipython",
    "version": 3
   },
   "file_extension": ".py",
   "mimetype": "text/x-python",
   "name": "python",
   "nbconvert_exporter": "python",
   "pygments_lexer": "ipython3",
   "version": "3.11.7"
  }
 },
 "nbformat": 4,
 "nbformat_minor": 2
}
